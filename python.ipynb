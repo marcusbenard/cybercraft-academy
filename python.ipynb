{
  "nbformat": 4,
  "nbformat_minor": 0,
  "metadata": {
    "colab": {
      "provenance": [],
      "include_colab_link": true
    },
    "kernelspec": {
      "name": "python3",
      "display_name": "Python 3"
    },
    "language_info": {
      "name": "python"
    }
  },
  "cells": [
    {
      "cell_type": "markdown",
      "metadata": {
        "id": "view-in-github",
        "colab_type": "text"
      },
      "source": [
        "<a href=\"https://colab.research.google.com/github/marcusbenard/cybercraft-academy/blob/main/python.ipynb\" target=\"_parent\"><img src=\"https://colab.research.google.com/assets/colab-badge.svg\" alt=\"Open In Colab\"/></a>"
      ]
    },
    {
      "cell_type": "code",
      "source": [
        "# Conway's Game of Life: A Cellular Automaton Simulation\n",
        "# Presented by MARCUS\n",
        "#\n",
        "# Overview:\n",
        "# This program simulates Conway's Game of Life, a cellular automaton created by John Conway in 1970.\n",
        "# It's a \"zero-player\" game where simple rules lead to complex, emergent patterns like gliders and oscillators.\n",
        "# Why interesting? It shows how complexity arises from simplicity, relevant to computer science, biology, and art.\n",
        "# For beginners: Learn 2D arrays, functions, loops, and basic animation.\n",
        "# For pros: Explore vectorized NumPy operations, toroidal boundaries, and optimization techniques.\n",
        "#\n",
        "# Requirements:\n",
        "# - Python 3.x\n",
        "# - Libraries: numpy, matplotlib (install via: pip install numpy matplotlib)\n",
        "#\n",
        "# How to run:\n",
        "# Save as game_of_life.py and run: python game_of_life.py\n",
        "# A window will show the animated simulation. Close the window to stop.\n",
        "\n",
        "try:\n",
        "    import numpy as np\n",
        "    import matplotlib.pyplot as plt\n",
        "    import matplotlib.animation as animation\n",
        "except ImportError as e:\n",
        "    print(f\"Error: Missing required library - {e}\")\n",
        "    print(\"Please install numpy and matplotlib using: pip install numpy matplotlib\")\n",
        "    exit(1)\n",
        "\n",
        "# Step 1: Define grid size and initial configuration\n",
        "GRID_SIZE = 50  # Size of the square grid (50x50 balances visibility and speed)\n",
        "INITIAL_DENSITY = 0.2  # Fraction of cells initially alive (0 to 1)\n",
        "\n",
        "def initialize_grid(size, density):\n",
        "    \"\"\"\n",
        "    Initialize a random grid of alive (1) and dead (0) cells.\n",
        "    - size: Integer for NxN grid\n",
        "    - density: Float (0 to 1) for probability a cell is alive\n",
        "    Returns: 2D NumPy array\n",
        "    Note: NumPy's vectorized operations are faster than Python lists for large grids.\n",
        "    \"\"\"\n",
        "    return (np.random.random((size, size)) < density).astype(int)\n",
        "\n",
        "def update_grid(grid):\n",
        "    \"\"\"\n",
        "    Evolve the grid one step using Conway's rules:\n",
        "    1. Live cell with <2 live neighbors dies (underpopulation).\n",
        "    2. Live cell with 2 or 3 live neighbors survives.\n",
        "    3. Live cell with >3 live neighbors dies (overpopulation).\n",
        "    4. Dead cell with exactly 3 live neighbors becomes alive (reproduction).\n",
        "    Uses toroidal boundaries (edges wrap around like a donut).\n",
        "    \"\"\"\n",
        "    new_grid = np.zeros_like(grid)\n",
        "\n",
        "    # Count neighbors by shifting grid in 8 directions and summing\n",
        "    neighbors = (\n",
        "        np.roll(np.roll(grid, 1, axis=0), 1, axis=1) +  # Top-left\n",
        "        np.roll(grid, 1, axis=0) +                      # Top\n",
        "        np.roll(np.roll(grid, 1, axis=0), -1, axis=1) + # Top-right\n",
        "        np.roll(grid, 1, axis=1) +                      # Left\n",
        "        np.roll(grid, -1, axis=1) +                     # Right\n",
        "        np.roll(np.roll(grid, -1, axis=0), 1, axis=1) + # Bottom-left\n",
        "        np.roll(grid, -1, axis=0) +                     # Bottom\n",
        "        np.roll(np.roll(grid, -1, axis=0), -1, axis=1)  # Bottom-right\n",
        "    )\n",
        "\n",
        "    # Apply rules using boolean masks\n",
        "    survive = (grid == 1) & ((neighbors == 2) | (neighbors == 3))\n",
        "    birth = (grid == 0) & (neighbors == 3)\n",
        "    new_grid[survive | birth] = 1\n",
        "    return new_grid\n",
        "\n",
        "def main():\n",
        "    # Initialize grid\n",
        "    grid = initialize_grid(GRID_SIZE, INITIAL_DENSITY)\n",
        "\n",
        "    # Set up plot\n",
        "    fig, ax = plt.subplots(figsize=(8, 8))\n",
        "    img = ax.imshow(grid, cmap='binary', interpolation='nearest')\n",
        "    ax.set_title(\"Conway's Game of Life - Presented by MARCUS\")\n",
        "    ax.axis('off')\n",
        "\n",
        "    # Animation function\n",
        "    def animate(frame, grid, img):\n",
        "        \"\"\"\n",
        "        Update grid and image for each animation frame.\n",
        "        - frame: Integer (required by FuncAnimation, unused here)\n",
        "        - grid: 2D array (passed to maintain state)\n",
        "        - img: Matplotlib image object to update\n",
        "        \"\"\"\n",
        "        grid = update_grid(grid)\n",
        "        img.set_array(grid)\n",
        "        return [img]\n",
        "\n",
        "    # Create animation\n",
        "    ani = animation.FuncAnimation(\n",
        "        fig, animate, fargs=(grid, img),\n",
        "        frames=None, interval=100, blit=True\n",
        "    )\n",
        "\n",
        "    # Show plot\n",
        "    plt.show()\n",
        "\n",
        "if __name__ == \"__main__\":\n",
        "    main()\n",
        "\n",
        "# Learning Extensions:\n",
        "# - Beginners: Change GRID_SIZE or INITIAL_DENSITY to see different behaviors.\n",
        "# - Example: Set grid[10:13, 10:13] = [[0,1,0],[0,0,1],[1,1,1]] for a glider pattern.\n",
        "# - Pros: Use scipy.signal.convolve2d for faster neighbor counting.\n",
        "# - Fun fact: Game of Life is Turing complete; it can simulate any computer with enough cells!"
      ],
      "metadata": {
        "colab": {
          "base_uri": "https://localhost:8080/",
          "height": 732
        },
        "id": "hjL7Qx76Cln3",
        "outputId": "d24e9104-c148-4f5a-dc07-e49fd74f2181"
      },
      "execution_count": null,
      "outputs": [
        {
          "output_type": "stream",
          "name": "stderr",
          "text": [
            "/tmp/ipython-input-3886520051.py:94: UserWarning: frames=None which we can infer the length of, did not pass an explicit *save_count* and passed cache_frame_data=True.  To avoid a possibly unbounded cache, frame data caching has been disabled. To suppress this warning either pass `cache_frame_data=False` or `save_count=MAX_FRAMES`.\n",
            "  ani = animation.FuncAnimation(\n"
          ]
        },
        {
          "output_type": "display_data",
          "data": {
            "text/plain": [
              "<Figure size 800x800 with 1 Axes>"
            ],
            "image/png": "[encoded data removed]"
          },
          "metadata": {}
        }
      ]
    }
  ]
}